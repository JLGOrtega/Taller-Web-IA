{
 "cells": [
  {
   "cell_type": "code",
   "execution_count": 1,
   "metadata": {},
   "outputs": [],
   "source": [
    "import warnings\n",
    "warnings.filterwarnings('ignore')\n",
    "\n",
    "import pandas as pd"
   ]
  },
  {
   "cell_type": "code",
   "execution_count": 2,
   "metadata": {},
   "outputs": [],
   "source": [
    "dcaptions = pd.read_csv(\"data/dcaptions.csv\", index_col=0).values.reshape(8092,)"
   ]
  },
  {
   "cell_type": "code",
   "execution_count": 3,
   "metadata": {},
   "outputs": [],
   "source": [
    "from keras.preprocessing.text import Tokenizer\n",
    "## the maximum number of words in dictionary\n",
    "nb_words = 6000\n",
    "tokenizer = Tokenizer(nb_words=nb_words)\n",
    "tokenizer.fit_on_texts(dcaptions)\n",
    "vocab_size = len(tokenizer.word_index) + 1\n",
    "dtexts = tokenizer.texts_to_sequences(dcaptions)\n"
   ]
  },
  {
   "cell_type": "code",
   "execution_count": 4,
   "metadata": {},
   "outputs": [],
   "source": [
    "index_word = dict([(index,word) for word, index in tokenizer.word_index.items()])\n"
   ]
  },
  {
   "cell_type": "code",
   "execution_count": 5,
   "metadata": {},
   "outputs": [],
   "source": [
    "import keras\n",
    "model_url = 'data/Image_Caption_Generator.h5'\n",
    "model = keras.models.load_model(model_url)\n",
    "\n"
   ]
  },
  {
   "cell_type": "code",
   "execution_count": 6,
   "metadata": {},
   "outputs": [],
   "source": [
    "#from tensorflow.keras.applications import VGG16\n",
    "\n",
    "#modelvgg = VGG16(include_top=True)\n",
    "## load the locally saved weights \n",
    "\n",
    "#from keras import models\n",
    "#modelvgg.layers.pop()\n",
    "#modelvgg = models.Model(inputs=modelvgg.inputs, outputs=modelvgg.layers[-2].output)\n",
    "## show the deep learning model\n",
    "#modelvgg.summary()"
   ]
  },
  {
   "cell_type": "code",
   "execution_count": 7,
   "metadata": {},
   "outputs": [],
   "source": [
    "#modelvgg.save_weights(\"data/vggmodel.h5\")"
   ]
  },
  {
   "cell_type": "code",
   "execution_count": 8,
   "metadata": {},
   "outputs": [
    {
     "name": "stdout",
     "output_type": "stream",
     "text": [
      "WARNING:tensorflow:No training configuration found in the save file, so the model was *not* compiled. Compile it manually.\n"
     ]
    }
   ],
   "source": [
    "modelvgg2 = keras.models.load_model(\"data/vggmodel.h5\")"
   ]
  },
  {
   "cell_type": "code",
   "execution_count": 9,
   "metadata": {},
   "outputs": [],
   "source": [
    "from keras.preprocessing.image import load_img, img_to_array\n",
    "from keras.applications.vgg16 import preprocess_input\n",
    "from keras.preprocessing.sequence import pad_sequences\n",
    "\n",
    "npix = 224 #image size is fixed at 224 because VGG16 model has been pre-trained to take that size.\n",
    "target_size = (npix,npix,3)\n",
    "image = load_img(\"img/ai.png\", target_size=target_size)\n",
    "# convert the image pixels to a numpy array\n",
    "image = img_to_array(image)\n",
    "nimage = preprocess_input(image)\n",
    "\n",
    "y_pred = modelvgg2.predict(nimage.reshape( (1,) + nimage.shape[:3]))\n",
    "image_feats = y_pred.flatten()"
   ]
  },
  {
   "cell_type": "code",
   "execution_count": 10,
   "metadata": {},
   "outputs": [],
   "source": [
    "maxlen=30\n",
    "def predict_caption(image):\n",
    "    '''\n",
    "    image.shape = (1,4462)\n",
    "    '''\n",
    "\n",
    "    in_text = 'startseq'\n",
    "\n",
    "    for iword in range(maxlen):\n",
    "        sequence = tokenizer.texts_to_sequences([in_text])[0]\n",
    "        sequence = pad_sequences([sequence],maxlen)\n",
    "        yhat = model.predict([image,sequence],verbose=0)\n",
    "        yhat = np.argmax(yhat)\n",
    "        newword = index_word[yhat]\n",
    "        in_text += \" \" + newword\n",
    "        if newword == \"endseq\":\n",
    "            break\n",
    "    return(in_text)"
   ]
  },
  {
   "cell_type": "code",
   "execution_count": 11,
   "metadata": {},
   "outputs": [],
   "source": [
    "import numpy as np\n",
    "def predict_caption(image):\n",
    "    '''\n",
    "    image.shape = (1,4462)\n",
    "    '''\n",
    "\n",
    "    in_text = 'startseq'\n",
    "    maxlen = 30\n",
    "\n",
    "    for iword in range(maxlen):\n",
    "        sequence = tokenizer.texts_to_sequences([in_text])[0]\n",
    "        sequence = pad_sequences([sequence],maxlen)\n",
    "        yhat = model.predict([image,sequence],verbose=0)\n",
    "        yhat = np.argmax(yhat)\n",
    "        newword = index_word[yhat]\n",
    "        in_text += \" \" + newword\n",
    "        if newword == \"endseq\":\n",
    "            break\n",
    "    return(in_text)\n",
    "\n",
    "caption = predict_caption(image_feats.reshape(1,len(image_feats)))"
   ]
  },
  {
   "cell_type": "code",
   "execution_count": 12,
   "metadata": {},
   "outputs": [
    {
     "data": {
      "text/plain": [
       "'startseq man is climbing the the the ocean endseq'"
      ]
     },
     "execution_count": 12,
     "metadata": {},
     "output_type": "execute_result"
    }
   ],
   "source": [
    "caption"
   ]
  },
  {
   "cell_type": "code",
   "execution_count": 13,
   "metadata": {},
   "outputs": [
    {
     "name": "stdout",
     "output_type": "stream",
     "text": [
      "import warnings\n",
      "warnings.filterwarnings('ignore')\n",
      "\n",
      "import pandas as pd\n",
      "dcaptions = pd.read_csv(\"data/dcaptions.csv\", index_col=0).values.reshape(8092,)\n",
      "from keras.preprocessing.text import Tokenizer\n",
      "## the maximum number of words in dictionary\n",
      "nb_words = 6000\n",
      "tokenizer = Tokenizer(nb_words=nb_words)\n",
      "tokenizer.fit_on_texts(dcaptions)\n",
      "vocab_size = len(tokenizer.word_index) + 1\n",
      "dtexts = tokenizer.texts_to_sequences(dcaptions)\n",
      "index_word = dict([(index,word) for word, index in tokenizer.word_index.items()])\n",
      "import keras\n",
      "model_url = 'data/Image_Caption_Generator.h5'\n",
      "model = keras.models.load_model(model_url)\n",
      "#from tensorflow.keras.applications import VGG16\n",
      "\n",
      "#modelvgg = VGG16(include_top=True)\n",
      "## load the locally saved weights \n",
      "\n",
      "#from keras import models\n",
      "#modelvgg.layers.pop()\n",
      "#modelvgg = models.Model(inputs=modelvgg.inputs, outputs=modelvgg.layers[-2].output)\n",
      "## show the deep learning model\n",
      "#modelvgg.summary()\n",
      "#modelvgg.save_weights(\"data/vggmodel.h5\")\n",
      "modelvgg2 = keras.models.load_model(\"data/vggmodel.h5\")\n",
      "from keras.preprocessing.image import load_img, img_to_array\n",
      "from keras.applications.vgg16 import preprocess_input\n",
      "from keras.preprocessing.sequence import pad_sequences\n",
      "\n",
      "npix = 224 #image size is fixed at 224 because VGG16 model has been pre-trained to take that size.\n",
      "target_size = (npix,npix,3)\n",
      "image = load_img(\"img/ai.png\", target_size=target_size)\n",
      "# convert the image pixels to a numpy array\n",
      "image = img_to_array(image)\n",
      "nimage = preprocess_input(image)\n",
      "\n",
      "y_pred = modelvgg2.predict(nimage.reshape( (1,) + nimage.shape[:3]))\n",
      "image_feats = y_pred.flatten()\n",
      "maxlen=30\n",
      "def predict_caption(image):\n",
      "    '''\n",
      "    image.shape = (1,4462)\n",
      "    '''\n",
      "\n",
      "    in_text = 'startseq'\n",
      "\n",
      "    for iword in range(maxlen):\n",
      "        sequence = tokenizer.texts_to_sequences([in_text])[0]\n",
      "        sequence = pad_sequences([sequence],maxlen)\n",
      "        yhat = model.predict([image,sequence],verbose=0)\n",
      "        yhat = np.argmax(yhat)\n",
      "        newword = index_word[yhat]\n",
      "        in_text += \" \" + newword\n",
      "        if newword == \"endseq\":\n",
      "            break\n",
      "    return(in_text)\n",
      "import numpy as np\n",
      "def predict_caption(image):\n",
      "    '''\n",
      "    image.shape = (1,4462)\n",
      "    '''\n",
      "\n",
      "    in_text = 'startseq'\n",
      "    maxlen = 30\n",
      "\n",
      "    for iword in range(maxlen):\n",
      "        sequence = tokenizer.texts_to_sequences([in_text])[0]\n",
      "        sequence = pad_sequences([sequence],maxlen)\n",
      "        yhat = model.predict([image,sequence],verbose=0)\n",
      "        yhat = np.argmax(yhat)\n",
      "        newword = index_word[yhat]\n",
      "        in_text += \" \" + newword\n",
      "        if newword == \"endseq\":\n",
      "            break\n",
      "    return(in_text)\n",
      "\n",
      "caption = predict_caption(image_feats.reshape(1,len(image_feats)))\n",
      "caption\n",
      "%history\n"
     ]
    }
   ],
   "source": [
    "%history"
   ]
  },
  {
   "cell_type": "code",
   "execution_count": null,
   "metadata": {},
   "outputs": [],
   "source": []
  },
  {
   "cell_type": "code",
   "execution_count": null,
   "metadata": {},
   "outputs": [],
   "source": []
  },
  {
   "cell_type": "code",
   "execution_count": null,
   "metadata": {},
   "outputs": [],
   "source": []
  },
  {
   "cell_type": "code",
   "execution_count": null,
   "metadata": {},
   "outputs": [],
   "source": []
  }
 ],
 "metadata": {
  "interpreter": {
   "hash": "ac2ca3e23db5a7e8429e2521fffa9363e4488fafcf4091af1a71fb9ae4a523f1"
  },
  "kernelspec": {
   "display_name": "Python 3.9.12 ('streamlit_env')",
   "language": "python",
   "name": "python3"
  },
  "language_info": {
   "codemirror_mode": {
    "name": "ipython",
    "version": 3
   },
   "file_extension": ".py",
   "mimetype": "text/x-python",
   "name": "python",
   "nbconvert_exporter": "python",
   "pygments_lexer": "ipython3",
   "version": "3.9.12"
  },
  "orig_nbformat": 4
 },
 "nbformat": 4,
 "nbformat_minor": 2
}
